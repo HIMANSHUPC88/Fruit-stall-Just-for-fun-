{
 "cells": [
  {
   "cell_type": "code",
   "execution_count": null,
   "id": "40060a43-4be6-4c55-9276-009f007cbed6",
   "metadata": {},
   "outputs": [],
   "source": [
    "         A Fruit stall \n",
    "name = input(\"enter Product name: \")\n",
    "\n",
    "while  name == \"\":\n",
    "    print (\"You didn't enter Product name\")\n",
    "    name = input(\"enter Product name:\")\n",
    "if name == 'Banana':\n",
    "    print(f\"price of {name} = 50 rs/kg\")  \n",
    "elif name == 'Apple':\n",
    "    print(f\"price of {name} = 90 rs/kg\")\n",
    "elif name == 'Mango':\n",
    "    print(f\"price of {name} = 60 rs/kg\")\n",
    "elif name == 'Grapes':\n",
    "    print(f\"price o {name} = 80 rs/kg\")  \n",
    "else :\n",
    "    print(\"We only have 'Mango','Banana','Grapes','Apple'\")"
   ]
  }
 ],
 "metadata": {
  "kernelspec": {
   "display_name": "Python 3 (ipykernel)",
   "language": "python",
   "name": "python3"
  },
  "language_info": {
   "codemirror_mode": {
    "name": "ipython",
    "version": 3
   },
   "file_extension": ".py",
   "mimetype": "text/x-python",
   "name": "python",
   "nbconvert_exporter": "python",
   "pygments_lexer": "ipython3",
   "version": "3.10.8"
  }
 },
 "nbformat": 4,
 "nbformat_minor": 5
}
